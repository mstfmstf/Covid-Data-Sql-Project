{
 "cells": [
  {
   "cell_type": "code",
   "execution_count": 1,
   "metadata": {},
   "outputs": [],
   "source": [
    "import pandas as pd\n",
    "import sqlalchemy as sa"
   ]
  },
  {
   "cell_type": "code",
   "execution_count": 2,
   "metadata": {},
   "outputs": [],
   "source": [
    "engine = sa.create_engine('mssql+pyodbc://LAPTOP-QF2CI5Q7\\SQLEXPRESS/PortfolioProject?driver=SQL+Server+Native+Client+11.0')"
   ]
  },
  {
   "cell_type": "code",
   "execution_count": 3,
   "metadata": {},
   "outputs": [],
   "source": [
    "%load_ext sql"
   ]
  },
  {
   "cell_type": "code",
   "execution_count": 4,
   "metadata": {},
   "outputs": [],
   "source": [
    "%sql mssql+pyodbc://LAPTOP-QF2CI5Q7\\SQLEXPRESS/PortfolioProject?driver=SQL+Server+Native+Client+11.0"
   ]
  },
  {
   "cell_type": "markdown",
   "metadata": {},
   "source": [
    "Let's overview the total cases and total deaths of the coronavirus by countries"
   ]
  },
  {
   "cell_type": "code",
   "execution_count": 5,
   "metadata": {},
   "outputs": [
    {
     "name": "stdout",
     "output_type": "stream",
     "text": [
      " * mssql+pyodbc://LAPTOP-QF2CI5Q7\\SQLEXPRESS/PortfolioProject?driver=SQL+Server+Native+Client+11.0\n",
      "Done.\n"
     ]
    },
    {
     "data": {
      "text/html": [
       "<table>\n",
       "    <tr>\n",
       "        <th>location</th>\n",
       "        <th>Total_Cases</th>\n",
       "        <th>Total_Deaths</th>\n",
       "        <th>population</th>\n",
       "    </tr>\n",
       "    <tr>\n",
       "        <td>Canada</td>\n",
       "        <td>1422148.0</td>\n",
       "        <td>26245</td>\n",
       "        <td>37742157.0</td>\n",
       "    </tr>\n",
       "    <tr>\n",
       "        <td>France</td>\n",
       "        <td>6184552.0</td>\n",
       "        <td>111230</td>\n",
       "        <td>67564251.0</td>\n",
       "    </tr>\n",
       "    <tr>\n",
       "        <td>Germany</td>\n",
       "        <td>3735399.0</td>\n",
       "        <td>90883</td>\n",
       "        <td>83783945.0</td>\n",
       "    </tr>\n",
       "    <tr>\n",
       "        <td>Russia</td>\n",
       "        <td>5428961.0</td>\n",
       "        <td>132314</td>\n",
       "        <td>145934460.0</td>\n",
       "    </tr>\n",
       "    <tr>\n",
       "        <td>United Kingdom</td>\n",
       "        <td>4791628.0</td>\n",
       "        <td>128390</td>\n",
       "        <td>67886004.0</td>\n",
       "    </tr>\n",
       "    <tr>\n",
       "        <td>United States</td>\n",
       "        <td>33652097.0</td>\n",
       "        <td>604474</td>\n",
       "        <td>331002647.0</td>\n",
       "    </tr>\n",
       "</table>"
      ],
      "text/plain": [
       "[('Canada', 1422148.0, 26245, 37742157.0),\n",
       " ('France', 6184552.0, 111230, 67564251.0),\n",
       " ('Germany', 3735399.0, 90883, 83783945.0),\n",
       " ('Russia', 5428961.0, 132314, 145934460.0),\n",
       " ('United Kingdom', 4791628.0, 128390, 67886004.0),\n",
       " ('United States', 33652097.0, 604474, 331002647.0)]"
      ]
     },
     "execution_count": 5,
     "metadata": {},
     "output_type": "execute_result"
    }
   ],
   "source": [
    "%%sql\n",
    "select location, sum(new_cases) as Total_Cases, sum(cast(new_deaths as int)) as Total_Deaths, population\n",
    "from PortfolioProject..CovidDeaths \n",
    "where location in ('Canada','United States','United Kingdom','France','Germany','Russia')\n",
    "group by location, population\n",
    "order by 1"
   ]
  },
  {
   "cell_type": "markdown",
   "metadata": {},
   "source": [
    "Shows what percentage of population got covid in Canada and what percentage of it died"
   ]
  },
  {
   "cell_type": "code",
   "execution_count": 6,
   "metadata": {},
   "outputs": [
    {
     "name": "stdout",
     "output_type": "stream",
     "text": [
      " * mssql+pyodbc://LAPTOP-QF2CI5Q7\\SQLEXPRESS/PortfolioProject?driver=SQL+Server+Native+Client+11.0\n",
      "Done.\n"
     ]
    },
    {
     "data": {
      "text/html": [
       "<table>\n",
       "    <tr>\n",
       "        <th>location</th>\n",
       "        <th>population</th>\n",
       "        <th>Total_Cases</th>\n",
       "        <th>Total_Deaths</th>\n",
       "        <th>CovidPercentage</th>\n",
       "        <th>DeathPercentage</th>\n",
       "    </tr>\n",
       "    <tr>\n",
       "        <td>Canada</td>\n",
       "        <td>37742157.0</td>\n",
       "        <td>1422148.0</td>\n",
       "        <td>26245</td>\n",
       "        <td>3.768062328817084</td>\n",
       "        <td>1.84544787181081</td>\n",
       "    </tr>\n",
       "</table>"
      ],
      "text/plain": [
       "[('Canada', 37742157.0, 1422148.0, 26245, 3.768062328817084, 1.84544787181081)]"
      ]
     },
     "execution_count": 6,
     "metadata": {},
     "output_type": "execute_result"
    }
   ],
   "source": [
    "%%sql\n",
    "select location, population, sum(new_cases) as Total_Cases, sum(cast(new_deaths as int)) as Total_Deaths, \n",
    "(sum(new_cases)/population)*100 as CovidPercentage, (sum(cast(new_deaths as int))/sum(new_cases))*100 as DeathPercentage\n",
    "from PortfolioProject..CovidDeaths\n",
    "where location = 'Canada' group by location, population"
   ]
  },
  {
   "cell_type": "markdown",
   "metadata": {},
   "source": [
    "Looking at 10 Countries that have more than 20 million population and Highest Infection Rate "
   ]
  },
  {
   "cell_type": "code",
   "execution_count": 7,
   "metadata": {},
   "outputs": [
    {
     "name": "stdout",
     "output_type": "stream",
     "text": [
      " * mssql+pyodbc://LAPTOP-QF2CI5Q7\\SQLEXPRESS/PortfolioProject?driver=SQL+Server+Native+Client+11.0\n",
      "Done.\n"
     ]
    },
    {
     "data": {
      "text/html": [
       "<table>\n",
       "    <tr>\n",
       "        <th>location</th>\n",
       "        <th>population</th>\n",
       "        <th>HighestInfectionCount</th>\n",
       "        <th>HighestCovidPercentage</th>\n",
       "    </tr>\n",
       "    <tr>\n",
       "        <td>United States</td>\n",
       "        <td>331002647.0</td>\n",
       "        <td>33652098.0</td>\n",
       "        <td>10.16671567584171</td>\n",
       "    </tr>\n",
       "    <tr>\n",
       "        <td>Argentina</td>\n",
       "        <td>45195777.0</td>\n",
       "        <td>4447701.0</td>\n",
       "        <td>9.84096589378251</td>\n",
       "    </tr>\n",
       "    <tr>\n",
       "        <td>France</td>\n",
       "        <td>67564251.0</td>\n",
       "        <td>5978650.0</td>\n",
       "        <td>8.848836346901855</td>\n",
       "    </tr>\n",
       "    <tr>\n",
       "        <td>Brazil</td>\n",
       "        <td>212559409.0</td>\n",
       "        <td>18513305.0</td>\n",
       "        <td>8.709708540824932</td>\n",
       "    </tr>\n",
       "    <tr>\n",
       "        <td>Colombia</td>\n",
       "        <td>50882884.0</td>\n",
       "        <td>4213074.0</td>\n",
       "        <td>8.279943408868098</td>\n",
       "    </tr>\n",
       "    <tr>\n",
       "        <td>Spain</td>\n",
       "        <td>46754783.0</td>\n",
       "        <td>3799733.0</td>\n",
       "        <td>8.126939654494814</td>\n",
       "    </tr>\n",
       "    <tr>\n",
       "        <td>Poland</td>\n",
       "        <td>37846605.0</td>\n",
       "        <td>2879811.0</td>\n",
       "        <td>7.609166000490665</td>\n",
       "    </tr>\n",
       "    <tr>\n",
       "        <td>South America</td>\n",
       "        <td>430759772.0</td>\n",
       "        <td>32772980.0</td>\n",
       "        <td>7.608180273621279</td>\n",
       "    </tr>\n",
       "    <tr>\n",
       "        <td>European Union</td>\n",
       "        <td>444919060.0</td>\n",
       "        <td>32717352.0</td>\n",
       "        <td>7.353551452706926</td>\n",
       "    </tr>\n",
       "    <tr>\n",
       "        <td>United Kingdom</td>\n",
       "        <td>67886004.0</td>\n",
       "        <td>4791628.0</td>\n",
       "        <td>7.058344456391924</td>\n",
       "    </tr>\n",
       "</table>"
      ],
      "text/plain": [
       "[('United States', 331002647.0, 33652098.0, 10.16671567584171),\n",
       " ('Argentina', 45195777.0, 4447701.0, 9.84096589378251),\n",
       " ('France', 67564251.0, 5978650.0, 8.848836346901855),\n",
       " ('Brazil', 212559409.0, 18513305.0, 8.709708540824932),\n",
       " ('Colombia', 50882884.0, 4213074.0, 8.279943408868098),\n",
       " ('Spain', 46754783.0, 3799733.0, 8.126939654494814),\n",
       " ('Poland', 37846605.0, 2879811.0, 7.609166000490665),\n",
       " ('South America', 430759772.0, 32772980.0, 7.608180273621279),\n",
       " ('European Union', 444919060.0, 32717352.0, 7.353551452706926),\n",
       " ('United Kingdom', 67886004.0, 4791628.0, 7.058344456391924)]"
      ]
     },
     "execution_count": 7,
     "metadata": {},
     "output_type": "execute_result"
    }
   ],
   "source": [
    "%%sql\n",
    "select top 10 location, population, max(total_cases) as HighestInfectionCount, max(total_cases/population)*100 as HighestCovidPercentage\n",
    "from PortfolioProject..CovidDeaths\n",
    "where population>20000000\n",
    "Group by location, population\n",
    "order by HighestCovidPercentage desc"
   ]
  },
  {
   "cell_type": "markdown",
   "metadata": {},
   "source": [
    "Looking at 10 Countries With Highest Death Count per Population"
   ]
  },
  {
   "cell_type": "code",
   "execution_count": 8,
   "metadata": {},
   "outputs": [
    {
     "name": "stdout",
     "output_type": "stream",
     "text": [
      " * mssql+pyodbc://LAPTOP-QF2CI5Q7\\SQLEXPRESS/PortfolioProject?driver=SQL+Server+Native+Client+11.0\n",
      "Done.\n"
     ]
    },
    {
     "data": {
      "text/html": [
       "<table>\n",
       "    <tr>\n",
       "        <th>location</th>\n",
       "        <th>TotalDeathCount</th>\n",
       "    </tr>\n",
       "    <tr>\n",
       "        <td>United States</td>\n",
       "        <td>604474</td>\n",
       "    </tr>\n",
       "    <tr>\n",
       "        <td>Brazil</td>\n",
       "        <td>515985</td>\n",
       "    </tr>\n",
       "    <tr>\n",
       "        <td>India</td>\n",
       "        <td>397637</td>\n",
       "    </tr>\n",
       "    <tr>\n",
       "        <td>Mexico</td>\n",
       "        <td>232803</td>\n",
       "    </tr>\n",
       "    <tr>\n",
       "        <td>Peru</td>\n",
       "        <td>191899</td>\n",
       "    </tr>\n",
       "    <tr>\n",
       "        <td>Russia</td>\n",
       "        <td>132314</td>\n",
       "    </tr>\n",
       "    <tr>\n",
       "        <td>United Kingdom</td>\n",
       "        <td>128390</td>\n",
       "    </tr>\n",
       "    <tr>\n",
       "        <td>Italy</td>\n",
       "        <td>127542</td>\n",
       "    </tr>\n",
       "    <tr>\n",
       "        <td>France</td>\n",
       "        <td>111230</td>\n",
       "    </tr>\n",
       "    <tr>\n",
       "        <td>Colombia</td>\n",
       "        <td>105934</td>\n",
       "    </tr>\n",
       "</table>"
      ],
      "text/plain": [
       "[('United States', 604474),\n",
       " ('Brazil', 515985),\n",
       " ('India', 397637),\n",
       " ('Mexico', 232803),\n",
       " ('Peru', 191899),\n",
       " ('Russia', 132314),\n",
       " ('United Kingdom', 128390),\n",
       " ('Italy', 127542),\n",
       " ('France', 111230),\n",
       " ('Colombia', 105934)]"
      ]
     },
     "execution_count": 8,
     "metadata": {},
     "output_type": "execute_result"
    }
   ],
   "source": [
    "%%sql\n",
    "select top 10 location, max(cast(total_deaths as int)) as TotalDeathCount\n",
    "from PortfolioProject..CovidDeaths\n",
    "--where location = 'Canada'\n",
    "where continent is not null\n",
    "Group by location\n",
    "order by TotalDeathCount desc"
   ]
  },
  {
   "cell_type": "markdown",
   "metadata": {},
   "source": [
    "Showing the Continent with Highest Death Count per Population"
   ]
  },
  {
   "cell_type": "code",
   "execution_count": 9,
   "metadata": {},
   "outputs": [
    {
     "name": "stdout",
     "output_type": "stream",
     "text": [
      " * mssql+pyodbc://LAPTOP-QF2CI5Q7\\SQLEXPRESS/PortfolioProject?driver=SQL+Server+Native+Client+11.0\n",
      "Done.\n"
     ]
    },
    {
     "data": {
      "text/html": [
       "<table>\n",
       "    <tr>\n",
       "        <th>continent</th>\n",
       "        <th>TotalDeathCount</th>\n",
       "    </tr>\n",
       "    <tr>\n",
       "        <td>North America</td>\n",
       "        <td>604474</td>\n",
       "    </tr>\n",
       "    <tr>\n",
       "        <td>South America</td>\n",
       "        <td>515985</td>\n",
       "    </tr>\n",
       "    <tr>\n",
       "        <td>Asia</td>\n",
       "        <td>397637</td>\n",
       "    </tr>\n",
       "    <tr>\n",
       "        <td>Europe</td>\n",
       "        <td>132314</td>\n",
       "    </tr>\n",
       "    <tr>\n",
       "        <td>Africa</td>\n",
       "        <td>60264</td>\n",
       "    </tr>\n",
       "    <tr>\n",
       "        <td>Oceania</td>\n",
       "        <td>910</td>\n",
       "    </tr>\n",
       "</table>"
      ],
      "text/plain": [
       "[('North America', 604474),\n",
       " ('South America', 515985),\n",
       " ('Asia', 397637),\n",
       " ('Europe', 132314),\n",
       " ('Africa', 60264),\n",
       " ('Oceania', 910)]"
      ]
     },
     "execution_count": 9,
     "metadata": {},
     "output_type": "execute_result"
    }
   ],
   "source": [
    "%%sql\n",
    "select continent, max(cast(total_deaths as int)) as TotalDeathCount\n",
    "from PortfolioProject..CovidDeaths\n",
    "--where location = 'Canada'\n",
    "where continent is not null\n",
    "Group by continent\n",
    "order by TotalDeathCount desc"
   ]
  },
  {
   "cell_type": "markdown",
   "metadata": {},
   "source": [
    "GLOBAL NUMBERS OF TOTAL CASES, TOTAL DEATHS, TOTAL CASE PERCENTAGE AND TOTAL DEATH PERCENTAGE"
   ]
  },
  {
   "cell_type": "code",
   "execution_count": 75,
   "metadata": {},
   "outputs": [
    {
     "name": "stdout",
     "output_type": "stream",
     "text": [
      " * mssql+pyodbc://LAPTOP-QF2CI5Q7\\SQLEXPRESS/PortfolioProject?driver=SQL+Server+Native+Client+11.0\n",
      "Done.\n"
     ]
    },
    {
     "data": {
      "text/html": [
       "<table>\n",
       "    <tr>\n",
       "        <th>total_cases</th>\n",
       "        <th>total_deaths</th>\n",
       "        <th>TotalCasePercentage</th>\n",
       "        <th>DeathPercentage</th>\n",
       "    </tr>\n",
       "    <tr>\n",
       "        <td>576933446.0</td>\n",
       "        <td>12550205</td>\n",
       "        <td>7.30</td>\n",
       "        <td>2.18</td>\n",
       "    </tr>\n",
       "</table>"
      ],
      "text/plain": [
       "[(576933446.0, 12550205, Decimal('7.30'), Decimal('2.18'))]"
      ]
     },
     "execution_count": 75,
     "metadata": {},
     "output_type": "execute_result"
    }
   ],
   "source": [
    "%%sql\n",
    "select sum(new_cases) as total_cases, SUM(cast(new_deaths as int)) as total_deaths,\n",
    "convert(Decimal(10,2),(sum(new_cases)/7900000000)*100) as TotalCasePercentage,\n",
    "convert(Decimal(10,2),SUM(cast(new_deaths as int))/SUM(new_cases)*100) as DeathPercentage\n",
    "from PortfolioProject..CovidDeaths\n",
    "--where continent is not null\n",
    "--group by location\n",
    "order by 1,2"
   ]
  },
  {
   "cell_type": "markdown",
   "metadata": {},
   "source": [
    "Total Number of Tested People and Positive Rates by Location"
   ]
  },
  {
   "cell_type": "code",
   "execution_count": 80,
   "metadata": {},
   "outputs": [
    {
     "name": "stdout",
     "output_type": "stream",
     "text": [
      " * mssql+pyodbc://LAPTOP-QF2CI5Q7\\SQLEXPRESS/PortfolioProject?driver=SQL+Server+Native+Client+11.0\n",
      "Done.\n"
     ]
    },
    {
     "data": {
      "text/html": [
       "<table>\n",
       "    <tr>\n",
       "        <th>location</th>\n",
       "        <th>Total_tests</th>\n",
       "        <th>Positive_rate</th>\n",
       "    </tr>\n",
       "    <tr>\n",
       "        <td>Canada</td>\n",
       "        <td>36641854</td>\n",
       "        <td>3.68</td>\n",
       "    </tr>\n",
       "    <tr>\n",
       "        <td>France</td>\n",
       "        <td>92536448</td>\n",
       "        <td>5.40</td>\n",
       "    </tr>\n",
       "    <tr>\n",
       "        <td>Germany</td>\n",
       "        <td>None</td>\n",
       "        <td>5.75</td>\n",
       "    </tr>\n",
       "    <tr>\n",
       "        <td>Russia</td>\n",
       "        <td>134819067</td>\n",
       "        <td>3.32</td>\n",
       "    </tr>\n",
       "    <tr>\n",
       "        <td>United Kingdom</td>\n",
       "        <td>197309938</td>\n",
       "        <td>3.88</td>\n",
       "    </tr>\n",
       "    <tr>\n",
       "        <td>United States</td>\n",
       "        <td>466195371</td>\n",
       "        <td>7.45</td>\n",
       "    </tr>\n",
       "</table>"
      ],
      "text/plain": [
       "[('Canada', 36641854, Decimal('3.68')),\n",
       " ('France', 92536448, Decimal('5.40')),\n",
       " ('Germany', None, Decimal('5.75')),\n",
       " ('Russia', 134819067, Decimal('3.32')),\n",
       " ('United Kingdom', 197309938, Decimal('3.88')),\n",
       " ('United States', 466195371, Decimal('7.45'))]"
      ]
     },
     "execution_count": 80,
     "metadata": {},
     "output_type": "execute_result"
    }
   ],
   "source": [
    "%%sql\n",
    "select location, sum(cast(new_tests as int)) as Total_tests, CONVERT(DECIMAL(10,2),avg(cast(positive_rate as float))*100) as Positive_rate\n",
    "from PortfolioProject..CovidVaccinatons\n",
    "where location in ('Canada','United States','United Kingdom','France','Germany','Russia')\n",
    "group by location\n",
    "order by 1\n"
   ]
  },
  {
   "cell_type": "markdown",
   "metadata": {},
   "source": [
    "Number of Vaccinated People and Percentage in Canada"
   ]
  },
  {
   "cell_type": "code",
   "execution_count": 12,
   "metadata": {},
   "outputs": [
    {
     "name": "stdout",
     "output_type": "stream",
     "text": [
      " * mssql+pyodbc://LAPTOP-QF2CI5Q7\\SQLEXPRESS/PortfolioProject?driver=SQL+Server+Native+Client+11.0\n",
      "Done.\n"
     ]
    },
    {
     "data": {
      "text/html": [
       "<table>\n",
       "    <tr>\n",
       "        <th>location</th>\n",
       "        <th>One_dose</th>\n",
       "        <th>Two_doses</th>\n",
       "        <th>one_dose_percentage</th>\n",
       "        <th>fully_vaccinated_percentage</th>\n",
       "    </tr>\n",
       "    <tr>\n",
       "        <td>Canada</td>\n",
       "        <td>15021039</td>\n",
       "        <td>10589254</td>\n",
       "        <td>67.86</td>\n",
       "        <td>28.06</td>\n",
       "    </tr>\n",
       "</table>"
      ],
      "text/plain": [
       "[('Canada', 15021039, 10589254, 67.86, 28.06)]"
      ]
     },
     "execution_count": 12,
     "metadata": {},
     "output_type": "execute_result"
    }
   ],
   "source": [
    "%%sql\n",
    "select location,max(cast(people_vaccinated as int)) - max(cast(people_fully_vaccinated as int)) as One_dose, \n",
    "max(cast(people_fully_vaccinated as int)) as Two_doses, max(cast(people_vaccinated_per_hundred as float)) as one_dose_percentage,\n",
    "max(cast(people_fully_vaccinated_per_hundred as float)) as fully_vaccinated_percentage\n",
    "from PortfolioProject..CovidVaccinatons \n",
    "where location = 'Canada'\n",
    "group by location\n",
    "order by 1"
   ]
  },
  {
   "cell_type": "code",
   "execution_count": null,
   "metadata": {},
   "outputs": [],
   "source": []
  }
 ],
 "metadata": {
  "kernelspec": {
   "display_name": "Python 3",
   "language": "python",
   "name": "python3"
  },
  "language_info": {
   "codemirror_mode": {
    "name": "ipython",
    "version": 3
   },
   "file_extension": ".py",
   "mimetype": "text/x-python",
   "name": "python",
   "nbconvert_exporter": "python",
   "pygments_lexer": "ipython3",
   "version": "3.8.5"
  }
 },
 "nbformat": 4,
 "nbformat_minor": 4
}
